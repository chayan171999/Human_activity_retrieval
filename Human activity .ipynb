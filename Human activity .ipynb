{
 "cells": [
  {
   "cell_type": "code",
   "execution_count": 1,
   "metadata": {},
   "outputs": [],
   "source": [
    "import os\n",
    "import shutil\n",
    "import json"
   ]
  },
  {
   "cell_type": "code",
   "execution_count": 2,
   "metadata": {},
   "outputs": [],
   "source": [
    "train_folder = 'C:/Users/HP/Desktop/new_activity/human_activity_retrieval_dataset/train'  # Replace with the path to your train folder\n",
    "labels_file = 'C:/Users/HP/Desktop/new_activity/human_activity_retrieval_dataset/train_image_info.json'"
   ]
  },
  {
   "cell_type": "code",
   "execution_count": 3,
   "metadata": {},
   "outputs": [
    {
     "name": "stdout",
     "output_type": "stream",
     "text": [
      "Subfolders created based on labels.\n"
     ]
    }
   ],
   "source": [
    "with open(labels_file, 'r') as f:\n",
    "    labels_data = json.load(f)\n",
    "\n",
    "# Create subfolders based on labels\n",
    "for image_name, label in labels_data.items():\n",
    "    label_folder = os.path.join(train_folder, str(label))  # Create a subfolder with the label name\n",
    "    os.makedirs(label_folder, exist_ok=True)  # Create the subfolder if it doesn't exist\n",
    "    image_path = os.path.join(train_folder, image_name)\n",
    "    shutil.move(image_path, os.path.join(label_folder, image_name))  # Move the image to the corresponding subfolder\n",
    "\n",
    "print(\"Subfolders created based on labels.\")"
   ]
  },
  {
   "cell_type": "code",
   "execution_count": 4,
   "metadata": {},
   "outputs": [
    {
     "name": "stdout",
     "output_type": "stream",
     "text": [
      "Label 'calling': 763 images\n",
      "Label 'clapping': 763 images\n",
      "Label 'cycling': 763 images\n",
      "Label 'dancing': 760 images\n",
      "Label 'drinking': 763 images\n",
      "Label 'eating': 764 images\n",
      "Label 'fighting': 764 images\n",
      "Label 'hugging': 762 images\n",
      "Label 'laughing': 763 images\n",
      "Label 'listening_to_music': 764 images\n",
      "Label 'running': 764 images\n",
      "Label 'sitting': 763 images\n",
      "Label 'sleeping': 761 images\n",
      "Label 'texting': 763 images\n",
      "Label 'using_laptop': 763 images\n"
     ]
    }
   ],
   "source": [
    "label_counts = {}\n",
    "\n",
    "# Iterate through subfolders in the \"Train\" directory\n",
    "for label_folder in os.listdir(train_folder):\n",
    "    if os.path.isdir(os.path.join(train_folder, label_folder)):\n",
    "        # Count the number of files (images) in each label subfolder\n",
    "        label_count = len(os.listdir(os.path.join(train_folder, label_folder)))\n",
    "        label_counts[label_folder] = label_count\n",
    "\n",
    "# Print the counts for each label\n",
    "for label, count in label_counts.items():\n",
    "    print(f\"Label '{label}': {count} images\")"
   ]
  },
  {
   "cell_type": "code",
   "execution_count": 7,
   "metadata": {},
   "outputs": [],
   "source": [
    "validate_folder = 'C:/Users/HP/Desktop/new_activity/human_activity_retrieval_dataset/gallery'\n",
    "labels1_file = 'C:/Users/HP/Desktop/new_activity/human_activity_retrieval_dataset/test_image_info.json'"
   ]
  },
  {
   "cell_type": "code",
   "execution_count": 8,
   "metadata": {},
   "outputs": [
    {
     "ename": "FileNotFoundError",
     "evalue": "[Errno 2] No such file or directory: 'C:/Users/HP/Desktop/new_activity/human_activity_retrieval_dataset/gallery\\\\Image_3280.jpg'",
     "output_type": "error",
     "traceback": [
      "\u001b[1;31m---------------------------------------------------------------------------\u001b[0m",
      "\u001b[1;31mFileNotFoundError\u001b[0m                         Traceback (most recent call last)",
      "\u001b[1;32mc:\\users\\hp\\appdata\\local\\programs\\python\\python36\\lib\\shutil.py\u001b[0m in \u001b[0;36mmove\u001b[1;34m(src, dst, copy_function)\u001b[0m\n\u001b[0;32m    549\u001b[0m     \u001b[1;32mtry\u001b[0m\u001b[1;33m:\u001b[0m\u001b[1;33m\u001b[0m\u001b[1;33m\u001b[0m\u001b[0m\n\u001b[1;32m--> 550\u001b[1;33m         \u001b[0mos\u001b[0m\u001b[1;33m.\u001b[0m\u001b[0mrename\u001b[0m\u001b[1;33m(\u001b[0m\u001b[0msrc\u001b[0m\u001b[1;33m,\u001b[0m \u001b[0mreal_dst\u001b[0m\u001b[1;33m)\u001b[0m\u001b[1;33m\u001b[0m\u001b[1;33m\u001b[0m\u001b[0m\n\u001b[0m\u001b[0;32m    551\u001b[0m     \u001b[1;32mexcept\u001b[0m \u001b[0mOSError\u001b[0m\u001b[1;33m:\u001b[0m\u001b[1;33m\u001b[0m\u001b[1;33m\u001b[0m\u001b[0m\n",
      "\u001b[1;31mFileNotFoundError\u001b[0m: [WinError 2] The system cannot find the file specified: 'C:/Users/HP/Desktop/new_activity/human_activity_retrieval_dataset/gallery\\\\Image_3280.jpg' -> 'C:/Users/HP/Desktop/new_activity/human_activity_retrieval_dataset/gallery\\\\sitting\\\\Image_3280.jpg'",
      "\nDuring handling of the above exception, another exception occurred:\n",
      "\u001b[1;31mFileNotFoundError\u001b[0m                         Traceback (most recent call last)",
      "\u001b[1;32m<ipython-input-8-2c7efcabe651>\u001b[0m in \u001b[0;36m<module>\u001b[1;34m\u001b[0m\n\u001b[0;32m      7\u001b[0m     \u001b[0mos\u001b[0m\u001b[1;33m.\u001b[0m\u001b[0mmakedirs\u001b[0m\u001b[1;33m(\u001b[0m\u001b[0mlabel_folder\u001b[0m\u001b[1;33m,\u001b[0m \u001b[0mexist_ok\u001b[0m\u001b[1;33m=\u001b[0m\u001b[1;32mTrue\u001b[0m\u001b[1;33m)\u001b[0m  \u001b[1;31m# Create the subfolder if it doesn't exist\u001b[0m\u001b[1;33m\u001b[0m\u001b[1;33m\u001b[0m\u001b[0m\n\u001b[0;32m      8\u001b[0m     \u001b[0mimage_path\u001b[0m \u001b[1;33m=\u001b[0m \u001b[0mos\u001b[0m\u001b[1;33m.\u001b[0m\u001b[0mpath\u001b[0m\u001b[1;33m.\u001b[0m\u001b[0mjoin\u001b[0m\u001b[1;33m(\u001b[0m\u001b[0mvalidate_folder\u001b[0m\u001b[1;33m,\u001b[0m \u001b[0mimage_name\u001b[0m\u001b[1;33m)\u001b[0m\u001b[1;33m\u001b[0m\u001b[1;33m\u001b[0m\u001b[0m\n\u001b[1;32m----> 9\u001b[1;33m     \u001b[0mshutil\u001b[0m\u001b[1;33m.\u001b[0m\u001b[0mmove\u001b[0m\u001b[1;33m(\u001b[0m\u001b[0mimage_path\u001b[0m\u001b[1;33m,\u001b[0m \u001b[0mos\u001b[0m\u001b[1;33m.\u001b[0m\u001b[0mpath\u001b[0m\u001b[1;33m.\u001b[0m\u001b[0mjoin\u001b[0m\u001b[1;33m(\u001b[0m\u001b[0mlabel_folder\u001b[0m\u001b[1;33m,\u001b[0m \u001b[0mimage_name\u001b[0m\u001b[1;33m)\u001b[0m\u001b[1;33m)\u001b[0m  \u001b[1;31m# Move the image to the corresponding subfolder\u001b[0m\u001b[1;33m\u001b[0m\u001b[1;33m\u001b[0m\u001b[0m\n\u001b[0m\u001b[0;32m     10\u001b[0m \u001b[1;33m\u001b[0m\u001b[0m\n\u001b[0;32m     11\u001b[0m \u001b[0mprint\u001b[0m\u001b[1;33m(\u001b[0m\u001b[1;34m\"Subfolders created based on labels.\"\u001b[0m\u001b[1;33m)\u001b[0m\u001b[1;33m\u001b[0m\u001b[1;33m\u001b[0m\u001b[0m\n",
      "\u001b[1;32mc:\\users\\hp\\appdata\\local\\programs\\python\\python36\\lib\\shutil.py\u001b[0m in \u001b[0;36mmove\u001b[1;34m(src, dst, copy_function)\u001b[0m\n\u001b[0;32m    562\u001b[0m             \u001b[0mrmtree\u001b[0m\u001b[1;33m(\u001b[0m\u001b[0msrc\u001b[0m\u001b[1;33m)\u001b[0m\u001b[1;33m\u001b[0m\u001b[1;33m\u001b[0m\u001b[0m\n\u001b[0;32m    563\u001b[0m         \u001b[1;32melse\u001b[0m\u001b[1;33m:\u001b[0m\u001b[1;33m\u001b[0m\u001b[1;33m\u001b[0m\u001b[0m\n\u001b[1;32m--> 564\u001b[1;33m             \u001b[0mcopy_function\u001b[0m\u001b[1;33m(\u001b[0m\u001b[0msrc\u001b[0m\u001b[1;33m,\u001b[0m \u001b[0mreal_dst\u001b[0m\u001b[1;33m)\u001b[0m\u001b[1;33m\u001b[0m\u001b[1;33m\u001b[0m\u001b[0m\n\u001b[0m\u001b[0;32m    565\u001b[0m             \u001b[0mos\u001b[0m\u001b[1;33m.\u001b[0m\u001b[0munlink\u001b[0m\u001b[1;33m(\u001b[0m\u001b[0msrc\u001b[0m\u001b[1;33m)\u001b[0m\u001b[1;33m\u001b[0m\u001b[1;33m\u001b[0m\u001b[0m\n\u001b[0;32m    566\u001b[0m     \u001b[1;32mreturn\u001b[0m \u001b[0mreal_dst\u001b[0m\u001b[1;33m\u001b[0m\u001b[1;33m\u001b[0m\u001b[0m\n",
      "\u001b[1;32mc:\\users\\hp\\appdata\\local\\programs\\python\\python36\\lib\\shutil.py\u001b[0m in \u001b[0;36mcopy2\u001b[1;34m(src, dst, follow_symlinks)\u001b[0m\n\u001b[0;32m    261\u001b[0m     \u001b[1;32mif\u001b[0m \u001b[0mos\u001b[0m\u001b[1;33m.\u001b[0m\u001b[0mpath\u001b[0m\u001b[1;33m.\u001b[0m\u001b[0misdir\u001b[0m\u001b[1;33m(\u001b[0m\u001b[0mdst\u001b[0m\u001b[1;33m)\u001b[0m\u001b[1;33m:\u001b[0m\u001b[1;33m\u001b[0m\u001b[1;33m\u001b[0m\u001b[0m\n\u001b[0;32m    262\u001b[0m         \u001b[0mdst\u001b[0m \u001b[1;33m=\u001b[0m \u001b[0mos\u001b[0m\u001b[1;33m.\u001b[0m\u001b[0mpath\u001b[0m\u001b[1;33m.\u001b[0m\u001b[0mjoin\u001b[0m\u001b[1;33m(\u001b[0m\u001b[0mdst\u001b[0m\u001b[1;33m,\u001b[0m \u001b[0mos\u001b[0m\u001b[1;33m.\u001b[0m\u001b[0mpath\u001b[0m\u001b[1;33m.\u001b[0m\u001b[0mbasename\u001b[0m\u001b[1;33m(\u001b[0m\u001b[0msrc\u001b[0m\u001b[1;33m)\u001b[0m\u001b[1;33m)\u001b[0m\u001b[1;33m\u001b[0m\u001b[1;33m\u001b[0m\u001b[0m\n\u001b[1;32m--> 263\u001b[1;33m     \u001b[0mcopyfile\u001b[0m\u001b[1;33m(\u001b[0m\u001b[0msrc\u001b[0m\u001b[1;33m,\u001b[0m \u001b[0mdst\u001b[0m\u001b[1;33m,\u001b[0m \u001b[0mfollow_symlinks\u001b[0m\u001b[1;33m=\u001b[0m\u001b[0mfollow_symlinks\u001b[0m\u001b[1;33m)\u001b[0m\u001b[1;33m\u001b[0m\u001b[1;33m\u001b[0m\u001b[0m\n\u001b[0m\u001b[0;32m    264\u001b[0m     \u001b[0mcopystat\u001b[0m\u001b[1;33m(\u001b[0m\u001b[0msrc\u001b[0m\u001b[1;33m,\u001b[0m \u001b[0mdst\u001b[0m\u001b[1;33m,\u001b[0m \u001b[0mfollow_symlinks\u001b[0m\u001b[1;33m=\u001b[0m\u001b[0mfollow_symlinks\u001b[0m\u001b[1;33m)\u001b[0m\u001b[1;33m\u001b[0m\u001b[1;33m\u001b[0m\u001b[0m\n\u001b[0;32m    265\u001b[0m     \u001b[1;32mreturn\u001b[0m \u001b[0mdst\u001b[0m\u001b[1;33m\u001b[0m\u001b[1;33m\u001b[0m\u001b[0m\n",
      "\u001b[1;32mc:\\users\\hp\\appdata\\local\\programs\\python\\python36\\lib\\shutil.py\u001b[0m in \u001b[0;36mcopyfile\u001b[1;34m(src, dst, follow_symlinks)\u001b[0m\n\u001b[0;32m    118\u001b[0m         \u001b[0mos\u001b[0m\u001b[1;33m.\u001b[0m\u001b[0msymlink\u001b[0m\u001b[1;33m(\u001b[0m\u001b[0mos\u001b[0m\u001b[1;33m.\u001b[0m\u001b[0mreadlink\u001b[0m\u001b[1;33m(\u001b[0m\u001b[0msrc\u001b[0m\u001b[1;33m)\u001b[0m\u001b[1;33m,\u001b[0m \u001b[0mdst\u001b[0m\u001b[1;33m)\u001b[0m\u001b[1;33m\u001b[0m\u001b[1;33m\u001b[0m\u001b[0m\n\u001b[0;32m    119\u001b[0m     \u001b[1;32melse\u001b[0m\u001b[1;33m:\u001b[0m\u001b[1;33m\u001b[0m\u001b[1;33m\u001b[0m\u001b[0m\n\u001b[1;32m--> 120\u001b[1;33m         \u001b[1;32mwith\u001b[0m \u001b[0mopen\u001b[0m\u001b[1;33m(\u001b[0m\u001b[0msrc\u001b[0m\u001b[1;33m,\u001b[0m \u001b[1;34m'rb'\u001b[0m\u001b[1;33m)\u001b[0m \u001b[1;32mas\u001b[0m \u001b[0mfsrc\u001b[0m\u001b[1;33m:\u001b[0m\u001b[1;33m\u001b[0m\u001b[1;33m\u001b[0m\u001b[0m\n\u001b[0m\u001b[0;32m    121\u001b[0m             \u001b[1;32mwith\u001b[0m \u001b[0mopen\u001b[0m\u001b[1;33m(\u001b[0m\u001b[0mdst\u001b[0m\u001b[1;33m,\u001b[0m \u001b[1;34m'wb'\u001b[0m\u001b[1;33m)\u001b[0m \u001b[1;32mas\u001b[0m \u001b[0mfdst\u001b[0m\u001b[1;33m:\u001b[0m\u001b[1;33m\u001b[0m\u001b[1;33m\u001b[0m\u001b[0m\n\u001b[0;32m    122\u001b[0m                 \u001b[0mcopyfileobj\u001b[0m\u001b[1;33m(\u001b[0m\u001b[0mfsrc\u001b[0m\u001b[1;33m,\u001b[0m \u001b[0mfdst\u001b[0m\u001b[1;33m)\u001b[0m\u001b[1;33m\u001b[0m\u001b[1;33m\u001b[0m\u001b[0m\n",
      "\u001b[1;31mFileNotFoundError\u001b[0m: [Errno 2] No such file or directory: 'C:/Users/HP/Desktop/new_activity/human_activity_retrieval_dataset/gallery\\\\Image_3280.jpg'"
     ]
    }
   ],
   "source": [
    "with open(labels1_file, 'r') as f:\n",
    "    labels_data = json.load(f)\n",
    "\n",
    "# Create subfolders based on labels\n",
    "for image_name, label in labels_data.items():\n",
    "    label_folder = os.path.join(validate_folder, str(label))  # Create a subfolder with the label name\n",
    "    os.makedirs(label_folder, exist_ok=True)  # Create the subfolder if it doesn't exist\n",
    "    image_path = os.path.join(validate_folder, image_name)\n",
    "    shutil.move(image_path, os.path.join(label_folder, image_name))  # Move the image to the corresponding subfolder\n",
    "\n",
    "print(\"Subfolders created based on labels.\")"
   ]
  },
  {
   "cell_type": "code",
   "execution_count": 9,
   "metadata": {},
   "outputs": [
    {
     "name": "stdout",
     "output_type": "stream",
     "text": [
      "Label 'calling': 763 images\n",
      "Label 'clapping': 763 images\n",
      "Label 'cycling': 763 images\n",
      "Label 'dancing': 760 images\n",
      "Label 'drinking': 763 images\n",
      "Label 'eating': 764 images\n",
      "Label 'fighting': 764 images\n",
      "Label 'hugging': 762 images\n",
      "Label 'laughing': 763 images\n",
      "Label 'listening_to_music': 764 images\n",
      "Label 'running': 764 images\n",
      "Label 'sitting': 763 images\n",
      "Label 'sleeping': 761 images\n",
      "Label 'texting': 763 images\n",
      "Label 'using_laptop': 763 images\n"
     ]
    }
   ],
   "source": [
    "label_counts = {}\n",
    "\n",
    "# Iterate through subfolders in the \"Train\" directory\n",
    "for label_folder in os.listdir(train_folder):\n",
    "    if os.path.isdir(os.path.join(train_folder, label_folder)):\n",
    "        # Count the number of files (images) in each label subfolder\n",
    "        label_count = len(os.listdir(os.path.join(train_folder, label_folder)))\n",
    "        label_counts[label_folder] = label_count\n",
    "\n",
    "# Print the counts for each label\n",
    "for label, count in label_counts.items():\n",
    "    print(f\"Label '{label}': {count} images\")"
   ]
  },
  {
   "cell_type": "code",
   "execution_count": 10,
   "metadata": {},
   "outputs": [
    {
     "name": "stdout",
     "output_type": "stream",
     "text": [
      "Label 'calling': 67 images\n",
      "Label 'clapping': 67 images\n",
      "Label 'cycling': 67 images\n",
      "Label 'dancing': 67 images\n",
      "Label 'drinking': 67 images\n",
      "Label 'eating': 66 images\n",
      "Label 'fighting': 66 images\n",
      "Label 'hugging': 67 images\n",
      "Label 'laughing': 67 images\n",
      "Label 'listening_to_music': 66 images\n",
      "Label 'running': 66 images\n",
      "Label 'sitting': 67 images\n",
      "Label 'sleeping': 67 images\n",
      "Label 'texting': 66 images\n",
      "Label 'using_laptop': 67 images\n"
     ]
    }
   ],
   "source": [
    "label_counts = {}\n",
    "\n",
    "# Iterate through subfolders in the \"Train\" directory\n",
    "for label_folder in os.listdir(validate_folder):\n",
    "    if os.path.isdir(os.path.join(validate_folder, label_folder)):\n",
    "        # Count the number of files (images) in each label subfolder\n",
    "        label_count = len(os.listdir(os.path.join(validate_folder, label_folder)))\n",
    "        label_counts[label_folder] = label_count\n",
    "\n",
    "# Print the counts for each label\n",
    "for label, count in label_counts.items():\n",
    "    print(f\"Label '{label}': {count} images\")"
   ]
  },
  {
   "cell_type": "code",
   "execution_count": 1,
   "metadata": {},
   "outputs": [],
   "source": [
    "import tensorflow as tf\n",
    "from tensorflow.keras.preprocessing.image import ImageDataGenerator\n",
    "from tensorflow.keras.models import Sequential\n",
    "from tensorflow.keras.layers import Conv2D, MaxPooling2D, Flatten, Dense\n",
    "from tensorflow.keras.utils import to_categorical\n",
    "from tensorflow.keras.optimizers import RMSprop\n",
    "import matplotlib.pyplot as plt\n",
    "import numpy as np\n",
    "import cv2\n",
    "from tensorflow.keras.optimizers import Adam\n",
    "import os"
   ]
  },
  {
   "cell_type": "code",
   "execution_count": 2,
   "metadata": {},
   "outputs": [],
   "source": [
    "train_datagen = ImageDataGenerator(\n",
    "    rescale=1.0 / 255,\n",
    "    width_shift_range=0.2,\n",
    "    height_shift_range=0.2,\n",
    "    shear_range=0.2,\n",
    "    zoom_range=0.2,\n",
    "    horizontal_flip=True,\n",
    "    fill_mode='nearest',\n",
    "    \n",
    ")"
   ]
  },
  {
   "cell_type": "code",
   "execution_count": 3,
   "metadata": {},
   "outputs": [],
   "source": [
    "validation_datagen = ImageDataGenerator(rescale=1.0 / 255)\n",
    "test_datagen = ImageDataGenerator(rescale=1.0 / 255)"
   ]
  },
  {
   "cell_type": "code",
   "execution_count": 4,
   "metadata": {},
   "outputs": [
    {
     "name": "stdout",
     "output_type": "stream",
     "text": [
      "Found 11443 images belonging to 15 classes.\n"
     ]
    }
   ],
   "source": [
    "train_generator = train_datagen.flow_from_directory(\n",
    "    'C:/Users/HP/Desktop/new_activity/human_activity_retrieval_dataset/train',\n",
    "    target_size=(150,150),\n",
    "    batch_size=32,\n",
    "    class_mode='categorical',  # Use 'categorical' for multi-class classification\n",
    "    shuffle=True\n",
    ")"
   ]
  },
  {
   "cell_type": "code",
   "execution_count": 5,
   "metadata": {},
   "outputs": [
    {
     "data": {
      "text/plain": [
       "{'calling': 0,\n",
       " 'clapping': 1,\n",
       " 'cycling': 2,\n",
       " 'dancing': 3,\n",
       " 'drinking': 4,\n",
       " 'eating': 5,\n",
       " 'fighting': 6,\n",
       " 'hugging': 7,\n",
       " 'laughing': 8,\n",
       " 'listening_to_music': 9,\n",
       " 'running': 10,\n",
       " 'sitting': 11,\n",
       " 'sleeping': 12,\n",
       " 'texting': 13,\n",
       " 'using_laptop': 14}"
      ]
     },
     "execution_count": 5,
     "metadata": {},
     "output_type": "execute_result"
    }
   ],
   "source": [
    "train_generator.class_indices"
   ]
  },
  {
   "cell_type": "code",
   "execution_count": 6,
   "metadata": {},
   "outputs": [
    {
     "name": "stdout",
     "output_type": "stream",
     "text": [
      "Found 1000 images belonging to 15 classes.\n"
     ]
    }
   ],
   "source": [
    "validation_generator = validation_datagen.flow_from_directory(\n",
    "    'C:/Users/HP/Desktop/new_activity/human_activity_retrieval_dataset/gallery',\n",
    "    target_size=(150,150),\n",
    "    batch_size=32,\n",
    "    class_mode='categorical',\n",
    "    shuffle=False\n",
    ")"
   ]
  },
  {
   "cell_type": "code",
   "execution_count": 7,
   "metadata": {},
   "outputs": [
    {
     "data": {
      "text/plain": [
       "{'calling': 0,\n",
       " 'clapping': 1,\n",
       " 'cycling': 2,\n",
       " 'dancing': 3,\n",
       " 'drinking': 4,\n",
       " 'eating': 5,\n",
       " 'fighting': 6,\n",
       " 'hugging': 7,\n",
       " 'laughing': 8,\n",
       " 'listening_to_music': 9,\n",
       " 'running': 10,\n",
       " 'sitting': 11,\n",
       " 'sleeping': 12,\n",
       " 'texting': 13,\n",
       " 'using_laptop': 14}"
      ]
     },
     "execution_count": 7,
     "metadata": {},
     "output_type": "execute_result"
    }
   ],
   "source": [
    "validation_generator.class_indices"
   ]
  },
  {
   "cell_type": "code",
   "execution_count": 8,
   "metadata": {},
   "outputs": [
    {
     "data": {
      "text/plain": [
       "array([ 0,  0,  0,  0,  0,  0,  0,  0,  0,  0,  0,  0,  0,  0,  0,  0,  0,\n",
       "        0,  0,  0,  0,  0,  0,  0,  0,  0,  0,  0,  0,  0,  0,  0,  0,  0,\n",
       "        0,  0,  0,  0,  0,  0,  0,  0,  0,  0,  0,  0,  0,  0,  0,  0,  0,\n",
       "        0,  0,  0,  0,  0,  0,  0,  0,  0,  0,  0,  0,  0,  0,  0,  0,  1,\n",
       "        1,  1,  1,  1,  1,  1,  1,  1,  1,  1,  1,  1,  1,  1,  1,  1,  1,\n",
       "        1,  1,  1,  1,  1,  1,  1,  1,  1,  1,  1,  1,  1,  1,  1,  1,  1,\n",
       "        1,  1,  1,  1,  1,  1,  1,  1,  1,  1,  1,  1,  1,  1,  1,  1,  1,\n",
       "        1,  1,  1,  1,  1,  1,  1,  1,  1,  1,  1,  1,  1,  1,  1,  2,  2,\n",
       "        2,  2,  2,  2,  2,  2,  2,  2,  2,  2,  2,  2,  2,  2,  2,  2,  2,\n",
       "        2,  2,  2,  2,  2,  2,  2,  2,  2,  2,  2,  2,  2,  2,  2,  2,  2,\n",
       "        2,  2,  2,  2,  2,  2,  2,  2,  2,  2,  2,  2,  2,  2,  2,  2,  2,\n",
       "        2,  2,  2,  2,  2,  2,  2,  2,  2,  2,  2,  2,  2,  2,  3,  3,  3,\n",
       "        3,  3,  3,  3,  3,  3,  3,  3,  3,  3,  3,  3,  3,  3,  3,  3,  3,\n",
       "        3,  3,  3,  3,  3,  3,  3,  3,  3,  3,  3,  3,  3,  3,  3,  3,  3,\n",
       "        3,  3,  3,  3,  3,  3,  3,  3,  3,  3,  3,  3,  3,  3,  3,  3,  3,\n",
       "        3,  3,  3,  3,  3,  3,  3,  3,  3,  3,  3,  3,  3,  4,  4,  4,  4,\n",
       "        4,  4,  4,  4,  4,  4,  4,  4,  4,  4,  4,  4,  4,  4,  4,  4,  4,\n",
       "        4,  4,  4,  4,  4,  4,  4,  4,  4,  4,  4,  4,  4,  4,  4,  4,  4,\n",
       "        4,  4,  4,  4,  4,  4,  4,  4,  4,  4,  4,  4,  4,  4,  4,  4,  4,\n",
       "        4,  4,  4,  4,  4,  4,  4,  4,  4,  4,  4,  4,  5,  5,  5,  5,  5,\n",
       "        5,  5,  5,  5,  5,  5,  5,  5,  5,  5,  5,  5,  5,  5,  5,  5,  5,\n",
       "        5,  5,  5,  5,  5,  5,  5,  5,  5,  5,  5,  5,  5,  5,  5,  5,  5,\n",
       "        5,  5,  5,  5,  5,  5,  5,  5,  5,  5,  5,  5,  5,  5,  5,  5,  5,\n",
       "        5,  5,  5,  5,  5,  5,  5,  5,  5,  5,  6,  6,  6,  6,  6,  6,  6,\n",
       "        6,  6,  6,  6,  6,  6,  6,  6,  6,  6,  6,  6,  6,  6,  6,  6,  6,\n",
       "        6,  6,  6,  6,  6,  6,  6,  6,  6,  6,  6,  6,  6,  6,  6,  6,  6,\n",
       "        6,  6,  6,  6,  6,  6,  6,  6,  6,  6,  6,  6,  6,  6,  6,  6,  6,\n",
       "        6,  6,  6,  6,  6,  6,  6,  6,  7,  7,  7,  7,  7,  7,  7,  7,  7,\n",
       "        7,  7,  7,  7,  7,  7,  7,  7,  7,  7,  7,  7,  7,  7,  7,  7,  7,\n",
       "        7,  7,  7,  7,  7,  7,  7,  7,  7,  7,  7,  7,  7,  7,  7,  7,  7,\n",
       "        7,  7,  7,  7,  7,  7,  7,  7,  7,  7,  7,  7,  7,  7,  7,  7,  7,\n",
       "        7,  7,  7,  7,  7,  7,  7,  8,  8,  8,  8,  8,  8,  8,  8,  8,  8,\n",
       "        8,  8,  8,  8,  8,  8,  8,  8,  8,  8,  8,  8,  8,  8,  8,  8,  8,\n",
       "        8,  8,  8,  8,  8,  8,  8,  8,  8,  8,  8,  8,  8,  8,  8,  8,  8,\n",
       "        8,  8,  8,  8,  8,  8,  8,  8,  8,  8,  8,  8,  8,  8,  8,  8,  8,\n",
       "        8,  8,  8,  8,  8,  8,  9,  9,  9,  9,  9,  9,  9,  9,  9,  9,  9,\n",
       "        9,  9,  9,  9,  9,  9,  9,  9,  9,  9,  9,  9,  9,  9,  9,  9,  9,\n",
       "        9,  9,  9,  9,  9,  9,  9,  9,  9,  9,  9,  9,  9,  9,  9,  9,  9,\n",
       "        9,  9,  9,  9,  9,  9,  9,  9,  9,  9,  9,  9,  9,  9,  9,  9,  9,\n",
       "        9,  9,  9,  9, 10, 10, 10, 10, 10, 10, 10, 10, 10, 10, 10, 10, 10,\n",
       "       10, 10, 10, 10, 10, 10, 10, 10, 10, 10, 10, 10, 10, 10, 10, 10, 10,\n",
       "       10, 10, 10, 10, 10, 10, 10, 10, 10, 10, 10, 10, 10, 10, 10, 10, 10,\n",
       "       10, 10, 10, 10, 10, 10, 10, 10, 10, 10, 10, 10, 10, 10, 10, 10, 10,\n",
       "       10, 10, 11, 11, 11, 11, 11, 11, 11, 11, 11, 11, 11, 11, 11, 11, 11,\n",
       "       11, 11, 11, 11, 11, 11, 11, 11, 11, 11, 11, 11, 11, 11, 11, 11, 11,\n",
       "       11, 11, 11, 11, 11, 11, 11, 11, 11, 11, 11, 11, 11, 11, 11, 11, 11,\n",
       "       11, 11, 11, 11, 11, 11, 11, 11, 11, 11, 11, 11, 11, 11, 11, 11, 11,\n",
       "       11, 12, 12, 12, 12, 12, 12, 12, 12, 12, 12, 12, 12, 12, 12, 12, 12,\n",
       "       12, 12, 12, 12, 12, 12, 12, 12, 12, 12, 12, 12, 12, 12, 12, 12, 12,\n",
       "       12, 12, 12, 12, 12, 12, 12, 12, 12, 12, 12, 12, 12, 12, 12, 12, 12,\n",
       "       12, 12, 12, 12, 12, 12, 12, 12, 12, 12, 12, 12, 12, 12, 12, 12, 12,\n",
       "       13, 13, 13, 13, 13, 13, 13, 13, 13, 13, 13, 13, 13, 13, 13, 13, 13,\n",
       "       13, 13, 13, 13, 13, 13, 13, 13, 13, 13, 13, 13, 13, 13, 13, 13, 13,\n",
       "       13, 13, 13, 13, 13, 13, 13, 13, 13, 13, 13, 13, 13, 13, 13, 13, 13,\n",
       "       13, 13, 13, 13, 13, 13, 13, 13, 13, 13, 13, 13, 13, 13, 13, 14, 14,\n",
       "       14, 14, 14, 14, 14, 14, 14, 14, 14, 14, 14, 14, 14, 14, 14, 14, 14,\n",
       "       14, 14, 14, 14, 14, 14, 14, 14, 14, 14, 14, 14, 14, 14, 14, 14, 14,\n",
       "       14, 14, 14, 14, 14, 14, 14, 14, 14, 14, 14, 14, 14, 14, 14, 14, 14,\n",
       "       14, 14, 14, 14, 14, 14, 14, 14, 14, 14, 14, 14, 14, 14])"
      ]
     },
     "execution_count": 8,
     "metadata": {},
     "output_type": "execute_result"
    }
   ],
   "source": [
    "validation_generator.classes"
   ]
  },
  {
   "cell_type": "code",
   "execution_count": 9,
   "metadata": {},
   "outputs": [],
   "source": [
    "from tensorflow.keras.layers import Dropout,AveragePooling2D,BatchNormalization\n",
    "model = Sequential()\n",
    "model.add(Conv2D(32, (3, 3), activation='relu', input_shape=(150, 150, 3)))\n",
    "model.add(BatchNormalization())\n",
    "model.add(MaxPooling2D((2, 2)))\n",
    "model.add(Conv2D(64, (3, 3), activation='relu'))\n",
    "model.add(BatchNormalization())\n",
    "model.add(MaxPooling2D((2, 2)))\n",
    "model.add(Conv2D(128, (3, 3), activation='relu'))\n",
    "model.add(BatchNormalization())\n",
    "model.add(MaxPooling2D((2, 2)))\n",
    "model.add(Flatten())\n",
    "model.add(Dense(256, activation='relu'))\n",
    "model.add(Dropout(0.5))\n",
    "model.add(Dense(128, activation='relu'))\n",
    "model.add(Dense(15, activation='softmax')) "
   ]
  },
  {
   "cell_type": "code",
   "execution_count": 10,
   "metadata": {},
   "outputs": [],
   "source": [
    "model.compile(optimizer=Adam(learning_rate=0.0001),\n",
    "              loss='categorical_crossentropy',\n",
    "              metrics=['accuracy'])"
   ]
  },
  {
   "cell_type": "code",
   "execution_count": 11,
   "metadata": {},
   "outputs": [
    {
     "data": {
      "text/plain": [
       "32"
      ]
     },
     "execution_count": 11,
     "metadata": {},
     "output_type": "execute_result"
    }
   ],
   "source": [
    "len(train_generator)\n",
    "len(validation_generator)"
   ]
  },
  {
   "cell_type": "code",
   "execution_count": 12,
   "metadata": {
    "scrolled": true
   },
   "outputs": [
    {
     "name": "stdout",
     "output_type": "stream",
     "text": [
      "Epoch 1/40\n",
      "358/358 [==============================] - 675s 2s/step - loss: 2.7866 - accuracy: 0.1133 - val_loss: 3.5909 - val_accuracy: 0.0880\n",
      "Epoch 2/40\n",
      "358/358 [==============================] - 658s 2s/step - loss: 2.6131 - accuracy: 0.1410 - val_loss: 2.4137 - val_accuracy: 0.2130\n",
      "Epoch 3/40\n",
      "358/358 [==============================] - 656s 2s/step - loss: 2.5817 - accuracy: 0.1518 - val_loss: 2.4235 - val_accuracy: 0.2110\n",
      "Epoch 4/40\n",
      "358/358 [==============================] - 653s 2s/step - loss: 2.5384 - accuracy: 0.1604 - val_loss: 2.4247 - val_accuracy: 0.2010\n",
      "Epoch 5/40\n",
      "358/358 [==============================] - 653s 2s/step - loss: 2.5169 - accuracy: 0.1710 - val_loss: 2.4297 - val_accuracy: 0.1980\n",
      "Epoch 6/40\n",
      "358/358 [==============================] - 649s 2s/step - loss: 2.4995 - accuracy: 0.1730 - val_loss: 2.4166 - val_accuracy: 0.2230\n",
      "Epoch 7/40\n",
      "358/358 [==============================] - 650s 2s/step - loss: 2.4671 - accuracy: 0.1895 - val_loss: 2.3666 - val_accuracy: 0.2160\n",
      "Epoch 8/40\n",
      "358/358 [==============================] - 649s 2s/step - loss: 2.4507 - accuracy: 0.1912 - val_loss: 2.3274 - val_accuracy: 0.2260\n",
      "Epoch 9/40\n",
      "358/358 [==============================] - 648s 2s/step - loss: 2.4297 - accuracy: 0.1979 - val_loss: 2.2811 - val_accuracy: 0.2530\n",
      "Epoch 10/40\n",
      "358/358 [==============================] - 652s 2s/step - loss: 2.4199 - accuracy: 0.1976 - val_loss: 2.3037 - val_accuracy: 0.2480\n",
      "Epoch 11/40\n",
      "358/358 [==============================] - 655s 2s/step - loss: 2.4099 - accuracy: 0.2043 - val_loss: 2.4892 - val_accuracy: 0.2050\n",
      "Epoch 12/40\n",
      "358/358 [==============================] - 648s 2s/step - loss: 2.3910 - accuracy: 0.2061 - val_loss: 2.2888 - val_accuracy: 0.2570\n",
      "Epoch 13/40\n",
      "358/358 [==============================] - 651s 2s/step - loss: 2.3622 - accuracy: 0.2249 - val_loss: 2.3329 - val_accuracy: 0.2310\n",
      "Epoch 14/40\n",
      "358/358 [==============================] - 649s 2s/step - loss: 2.3675 - accuracy: 0.2241 - val_loss: 2.2298 - val_accuracy: 0.2760\n",
      "Epoch 15/40\n",
      "358/358 [==============================] - 643s 2s/step - loss: 2.3645 - accuracy: 0.2213 - val_loss: 2.3643 - val_accuracy: 0.2540\n",
      "Epoch 16/40\n",
      "358/358 [==============================] - 656s 2s/step - loss: 2.3291 - accuracy: 0.2311 - val_loss: 2.2187 - val_accuracy: 0.2880\n",
      "Epoch 17/40\n",
      "358/358 [==============================] - 652s 2s/step - loss: 2.3247 - accuracy: 0.2339 - val_loss: 2.1499 - val_accuracy: 0.2930\n",
      "Epoch 18/40\n",
      "358/358 [==============================] - 574s 2s/step - loss: 2.3235 - accuracy: 0.2330 - val_loss: 2.2742 - val_accuracy: 0.2590\n",
      "Epoch 19/40\n",
      "358/358 [==============================] - 585s 2s/step - loss: 2.3154 - accuracy: 0.2380 - val_loss: 2.1501 - val_accuracy: 0.2880\n",
      "Epoch 20/40\n",
      "358/358 [==============================] - 620s 2s/step - loss: 2.3003 - accuracy: 0.2432 - val_loss: 2.1335 - val_accuracy: 0.2920\n",
      "Epoch 21/40\n",
      "358/358 [==============================] - 652s 2s/step - loss: 2.2948 - accuracy: 0.2435 - val_loss: 2.2022 - val_accuracy: 0.2940\n",
      "Epoch 22/40\n",
      "358/358 [==============================] - 654s 2s/step - loss: 2.2906 - accuracy: 0.2468 - val_loss: 2.2327 - val_accuracy: 0.2670\n",
      "Epoch 23/40\n",
      "358/358 [==============================] - 648s 2s/step - loss: 2.2666 - accuracy: 0.2551 - val_loss: 2.1512 - val_accuracy: 0.3040\n",
      "Epoch 24/40\n",
      "358/358 [==============================] - 651s 2s/step - loss: 2.2626 - accuracy: 0.2523 - val_loss: 2.1415 - val_accuracy: 0.3110\n",
      "Epoch 25/40\n",
      "358/358 [==============================] - 649s 2s/step - loss: 2.2597 - accuracy: 0.2542 - val_loss: 2.1078 - val_accuracy: 0.3160\n",
      "Epoch 26/40\n",
      "358/358 [==============================] - 653s 2s/step - loss: 2.2387 - accuracy: 0.2577 - val_loss: 2.1990 - val_accuracy: 0.2890\n",
      "Epoch 27/40\n",
      "358/358 [==============================] - 662s 2s/step - loss: 2.2366 - accuracy: 0.2602 - val_loss: 2.3448 - val_accuracy: 0.2430\n",
      "Epoch 28/40\n",
      "358/358 [==============================] - 598s 2s/step - loss: 2.2355 - accuracy: 0.2705 - val_loss: 2.0880 - val_accuracy: 0.3240\n",
      "Epoch 29/40\n",
      "358/358 [==============================] - 729s 2s/step - loss: 2.2073 - accuracy: 0.2784 - val_loss: 2.1314 - val_accuracy: 0.3020\n",
      "Epoch 30/40\n",
      "358/358 [==============================] - 758s 2s/step - loss: 2.2126 - accuracy: 0.2671 - val_loss: 2.0927 - val_accuracy: 0.3010\n",
      "Epoch 31/40\n",
      "358/358 [==============================] - 757s 2s/step - loss: 2.2080 - accuracy: 0.2755 - val_loss: 2.1601 - val_accuracy: 0.2980\n",
      "Epoch 32/40\n",
      "358/358 [==============================] - 681s 2s/step - loss: 2.1941 - accuracy: 0.2755 - val_loss: 2.0826 - val_accuracy: 0.3080\n",
      "Epoch 33/40\n",
      "358/358 [==============================] - 717s 2s/step - loss: 2.1950 - accuracy: 0.2721 - val_loss: 2.0441 - val_accuracy: 0.3160\n",
      "Epoch 34/40\n",
      "358/358 [==============================] - 661s 2s/step - loss: 2.1877 - accuracy: 0.2795 - val_loss: 2.0262 - val_accuracy: 0.3410\n",
      "Epoch 35/40\n",
      "358/358 [==============================] - 649s 2s/step - loss: 2.1817 - accuracy: 0.2797 - val_loss: 2.0629 - val_accuracy: 0.3040\n",
      "Epoch 36/40\n",
      "358/358 [==============================] - 652s 2s/step - loss: 2.1710 - accuracy: 0.2817 - val_loss: 2.0323 - val_accuracy: 0.3440\n",
      "Epoch 37/40\n",
      "358/358 [==============================] - 634s 2s/step - loss: 2.1571 - accuracy: 0.2850 - val_loss: 2.0831 - val_accuracy: 0.3110\n",
      "Epoch 38/40\n",
      "358/358 [==============================] - 613s 2s/step - loss: 2.1546 - accuracy: 0.2900 - val_loss: 2.1557 - val_accuracy: 0.3080\n",
      "Epoch 39/40\n",
      "358/358 [==============================] - 650s 2s/step - loss: 2.1577 - accuracy: 0.2864 - val_loss: 2.0738 - val_accuracy: 0.3360\n",
      "Epoch 40/40\n",
      "358/358 [==============================] - 653s 2s/step - loss: 2.1491 - accuracy: 0.2914 - val_loss: 2.0168 - val_accuracy: 0.3350\n"
     ]
    }
   ],
   "source": [
    "epochs = 40\n",
    "history = model.fit(\n",
    "    train_generator,\n",
    "    epochs=epochs,\n",
    "    steps_per_epoch=len(train_generator),\n",
    "    validation_data=validation_generator\n",
    "   )"
   ]
  },
  {
   "cell_type": "code",
   "execution_count": 55,
   "metadata": {},
   "outputs": [],
   "source": [
    "validation_images = []  # Store only the images, not labels\n",
    "\n",
    "for i in range(len(validation_generator)):\n",
    "    batch_images, _ = validation_generator[i]  # Ignore the labels\n",
    "    validation_images.extend(batch_images)\n",
    "\n",
    "validation_images = np.array(validation_images)"
   ]
  },
  {
   "cell_type": "code",
   "execution_count": 56,
   "metadata": {},
   "outputs": [],
   "source": [
    "query_image_files = sorted(os.listdir('C:/Users/HP/Desktop/new_activity/human_activity_retrieval_dataset/query_images'))\n",
    "query_images = []"
   ]
  },
  {
   "cell_type": "code",
   "execution_count": 57,
   "metadata": {},
   "outputs": [],
   "source": [
    "def load_and_preprocess_image(image_path, target_size=(150, 150)):\n",
    "    # Open the image using PIL\n",
    "    image = Image.open(image_path)\n",
    "\n",
    "    # Resize the image to the target size\n",
    "    image = image.resize(target_size)\n",
    "\n",
    "    # Convert the image to a NumPy array\n",
    "    image_array = np.array(image)\n",
    "\n",
    "    # Normalize the pixel values to the range [0, 1]\n",
    "    image_array = image_array / 255.0\n",
    "\n",
    "    return image_array\n",
    "\n",
    "    # Convert the image to a NumPy array\n",
    "   "
   ]
  },
  {
   "cell_type": "code",
   "execution_count": 58,
   "metadata": {},
   "outputs": [],
   "source": [
    "from PIL import Image\n",
    "import numpy as np\n",
    "\n",
    "for image_file in query_image_files:\n",
    "    image_path = os.path.join('C:/Users/HP/Desktop/new_activity/human_activity_retrieval_dataset/query_images', image_file)\n",
    "    image = load_and_preprocess_image(image_path)  # You need to define 'load_and_preprocess_image' for your preprocessing\n",
    "    query_images.append(image)\n",
    "\n",
    "query_images = np.array(query_images)"
   ]
  },
  {
   "cell_type": "code",
   "execution_count": 59,
   "metadata": {},
   "outputs": [],
   "source": [
    "query_features = model.predict(query_images)\n",
    "validation_features = model.predict(validation_images)"
   ]
  },
  {
   "cell_type": "code",
   "execution_count": 60,
   "metadata": {},
   "outputs": [],
   "source": [
    "from sklearn.metrics.pairwise import cosine_similarity\n",
    "similarity_matrix = cosine_similarity(query_features, validation_features)\n"
   ]
  },
  {
   "cell_type": "code",
   "execution_count": 61,
   "metadata": {},
   "outputs": [],
   "source": [
    "sorted_indices = np.argsort(similarity_matrix, axis=1)[:, ::-1]"
   ]
  },
  {
   "cell_type": "code",
   "execution_count": 62,
   "metadata": {},
   "outputs": [],
   "source": [
    "K_values = [1, 10, 50]\n",
    "mAP_values = []\n",
    "mean_rank_values = []"
   ]
  },
  {
   "cell_type": "code",
   "execution_count": 78,
   "metadata": {},
   "outputs": [
    {
     "name": "stdout",
     "output_type": "stream",
     "text": [
      "Mean Average Precision (mAP) at K=1: nan\n",
      "Mean Average Precision (mAP) at K=10: nan\n",
      "Mean Average Precision (mAP) at K=50: nan\n",
      "Mean Rank: -1.0\n"
     ]
    }
   ],
   "source": [
    "for K in K_values:\n",
    "    average_precision_list = []\n",
    "    rank_list = []\n",
    "\n",
    "    for i in range(len(query_features)):\n",
    "        relevant_indices = sorted_indices[i][:K]\n",
    "        \n",
    "        \n",
    "        if len(relevant_indices) > 0:\n",
    "            precision = len(set(relevant_indices) & set(np.arange(len(validation_features)))) / K\n",
    "        else:\n",
    "            precision = 0  # No relevant images, set precision to 0\n",
    "\n",
    "        average_precision_list.append(precision)\n",
    "    # Calculate rank of the first relevant image\n",
    "        if len(relevant_indices) > 0:\n",
    "            try:\n",
    "                rank = np.where(relevant_indices == i)[0][0] + 1  # Adding 1 to make it rank starting from 1\n",
    "            except IndexError:\n",
    "                rank = -1# Adding 1 to make it rank starting from 1\n",
    "        else:\n",
    "            rank = -1  # Indicate that there were no relevant images found\n",
    "\n",
    "        rank_list.append(rank)\n",
    "       \n",
    "\n",
    "    mAP = np.mean(average_precision_list)\n",
    "    mean_rank = np.mean(rank_list)\n",
    "\n",
    "    mAP_values.append(mAP)\n",
    "    mean_rank_values.append(mean_rank)\n",
    "    \n",
    "for i, K in enumerate(K_values):\n",
    "    print(f\"Mean Average Precision (mAP) at K={K}: {mAP_values[i]}\")\n",
    "print(f\"Mean Rank: {mean_rank_values[0]}\")  # Mean rank at K=1"
   ]
  },
  {
   "cell_type": "code",
   "execution_count": 47,
   "metadata": {},
   "outputs": [
    {
     "name": "stdout",
     "output_type": "stream",
     "text": [
      "Mean Average Precision (mAP) at K=1: nan\n",
      "Mean Average Precision (mAP) at K=10: nan\n",
      "Mean Average Precision (mAP) at K=50: nan\n",
      "Mean Rank: -1.0\n"
     ]
    }
   ],
   "source": [
    "for i, K in enumerate(K_values):\n",
    "    print(f\"Mean Average Precision (mAP) at K={K}: {mAP_values[i]}\")\n",
    "print(f\"Mean Rank: {mean_rank_values[0]}\")  # Mean rank at K=1"
   ]
  },
  {
   "cell_type": "code",
   "execution_count": 48,
   "metadata": {},
   "outputs": [
    {
     "name": "stdout",
     "output_type": "stream",
     "text": [
      "[[1.0770833e-01 6.8902582e-02 5.9580227e-04 ... 1.7693467e-01\n",
      "  5.4085188e-02 4.1826494e-02]\n",
      " [5.5764828e-02 7.1228094e-02 6.3310362e-02 ... 7.0554428e-02\n",
      "  6.0076464e-02 7.4670836e-02]\n",
      " [1.4027609e-01 3.0539636e-02 2.5981801e-05 ... 3.4929033e-02\n",
      "  1.1239054e-01 1.4982983e-02]\n",
      " ...\n",
      " [6.9642045e-02 3.1698562e-02 2.3076185e-03 ... 1.8860847e-01\n",
      "  9.8260209e-02 1.5373877e-01]\n",
      " [1.2301766e-01 9.3842708e-02 2.2383183e-02 ... 5.8000654e-02\n",
      "  8.3940268e-02 1.0684829e-01]\n",
      " [5.3144056e-02 4.4655584e-02 3.0137664e-03 ... 2.7292389e-01\n",
      "  8.7867789e-02 9.0973161e-02]]\n"
     ]
    }
   ],
   "source": [
    "print(validation_features)"
   ]
  },
  {
   "cell_type": "code",
   "execution_count": 49,
   "metadata": {},
   "outputs": [
    {
     "name": "stdout",
     "output_type": "stream",
     "text": [
      "[[1.32662123e-02 1.35967704e-02 1.20445915e-01 ... 5.26958369e-02\n",
      "  2.62192730e-02 2.73709986e-02]\n",
      " [1.25853404e-01 2.13938095e-02 1.89761622e-07 ... 6.03667498e-02\n",
      "  1.08799838e-01 2.45150854e-03]\n",
      " [8.92514735e-02 3.68898027e-02 2.64728093e-04 ... 6.84010014e-02\n",
      "  9.70216617e-02 2.44668096e-01]\n",
      " ...\n",
      " [6.76123018e-04 1.23793876e-03 7.43879795e-01 ... 4.99373442e-03\n",
      "  4.53432993e-04 1.20086852e-03]\n",
      " [3.96197140e-02 5.82475141e-02 1.20215215e-01 ... 3.71358953e-02\n",
      "  4.50914502e-02 6.72773942e-02]\n",
      " [4.62460555e-02 1.08941048e-01 1.07501512e-02 ... 7.00074434e-03\n",
      "  1.72030963e-02 6.61382871e-03]]\n"
     ]
    }
   ],
   "source": [
    "print(query_features)"
   ]
  },
  {
   "cell_type": "code",
   "execution_count": 50,
   "metadata": {},
   "outputs": [],
   "source": [
    "dir_path = 'C:/Users/HP/Desktop/new_activity/human_activity_retrieval_dataset/query_images'"
   ]
  },
  {
   "cell_type": "code",
   "execution_count": 54,
   "metadata": {},
   "outputs": [
    {
     "ename": "AttributeError",
     "evalue": "'numpy.ndarray' object has no attribute 'load_img'",
     "output_type": "error",
     "traceback": [
      "\u001b[1;31m---------------------------------------------------------------------------\u001b[0m",
      "\u001b[1;31mAttributeError\u001b[0m                            Traceback (most recent call last)",
      "\u001b[1;32m<ipython-input-54-53368b066ca3>\u001b[0m in \u001b[0;36m<module>\u001b[1;34m\u001b[0m\n\u001b[0;32m      1\u001b[0m \u001b[1;32mfrom\u001b[0m \u001b[0mkeras\u001b[0m\u001b[1;33m.\u001b[0m\u001b[0mpreprocessing\u001b[0m\u001b[1;33m.\u001b[0m\u001b[0mimage\u001b[0m \u001b[1;32mimport\u001b[0m \u001b[0mload_img\u001b[0m\u001b[1;33m\u001b[0m\u001b[1;33m\u001b[0m\u001b[0m\n\u001b[0;32m      2\u001b[0m \u001b[1;32mfor\u001b[0m \u001b[0mi\u001b[0m \u001b[1;32min\u001b[0m \u001b[0mos\u001b[0m\u001b[1;33m.\u001b[0m\u001b[0mlistdir\u001b[0m\u001b[1;33m(\u001b[0m\u001b[0mdir_path\u001b[0m\u001b[1;33m)\u001b[0m\u001b[1;33m:\u001b[0m\u001b[1;33m\u001b[0m\u001b[1;33m\u001b[0m\u001b[0m\n\u001b[1;32m----> 3\u001b[1;33m     \u001b[0mimg\u001b[0m \u001b[1;33m=\u001b[0m \u001b[0mimage\u001b[0m\u001b[1;33m.\u001b[0m\u001b[0mload_img\u001b[0m\u001b[1;33m(\u001b[0m\u001b[0mdir_path\u001b[0m\u001b[1;33m+\u001b[0m\u001b[1;34m'//'\u001b[0m\u001b[1;33m+\u001b[0m\u001b[0mi\u001b[0m\u001b[1;33m)\u001b[0m\u001b[1;33m\u001b[0m\u001b[1;33m\u001b[0m\u001b[0m\n\u001b[0m\u001b[0;32m      4\u001b[0m     \u001b[0mplt\u001b[0m\u001b[1;33m.\u001b[0m\u001b[0mimshow\u001b[0m\u001b[1;33m(\u001b[0m\u001b[0mimg\u001b[0m\u001b[1;33m)\u001b[0m\u001b[1;33m\u001b[0m\u001b[1;33m\u001b[0m\u001b[0m\n\u001b[0;32m      5\u001b[0m     \u001b[0mplt\u001b[0m\u001b[1;33m.\u001b[0m\u001b[0mshow\u001b[0m\u001b[1;33m(\u001b[0m\u001b[1;33m)\u001b[0m\u001b[1;33m\u001b[0m\u001b[1;33m\u001b[0m\u001b[0m\n",
      "\u001b[1;31mAttributeError\u001b[0m: 'numpy.ndarray' object has no attribute 'load_img'"
     ]
    }
   ],
   "source": [
    "from keras.preprocessing.image import load_img\n",
    "for i in os.listdir(dir_path):\n",
    "    img = image.load_img(dir_path+'//'+i)\n",
    "    plt.imshow(img)\n",
    "    plt.show()"
   ]
  },
  {
   "cell_type": "code",
   "execution_count": 65,
   "metadata": {},
   "outputs": [
    {
     "name": "stdout",
     "output_type": "stream",
     "text": [
      "[119 212 224 694 243 120 219 216 411  77  86 726 239  57 463 240 105 214\n",
      " 202 226 231 251 265 433 109 454 123 737 222 210 456 408 213  93 447 111\n",
      " 402 254 256 267 762 491 217 260 225 738  40 549 459 234]\n"
     ]
    }
   ],
   "source": [
    "print(relevant_indices)"
   ]
  },
  {
   "cell_type": "code",
   "execution_count": 68,
   "metadata": {},
   "outputs": [
    {
     "data": {
      "text/plain": [
       "1000"
      ]
     },
     "execution_count": 68,
     "metadata": {},
     "output_type": "execute_result"
    }
   ],
   "source": [
    "len(validation_features)"
   ]
  },
  {
   "cell_type": "code",
   "execution_count": 72,
   "metadata": {},
   "outputs": [
    {
     "name": "stdout",
     "output_type": "stream",
     "text": [
      "[[205 179 669 ... 558 565 581]\n",
      " [495 532 479 ... 675 176 186]\n",
      " [637 645 970 ... 675 176 186]\n",
      " ...\n",
      " [185 266 154 ... 558 565 581]\n",
      " [604 193 317 ... 565 579 581]\n",
      " [119 212 224 ... 186 849 853]]\n"
     ]
    }
   ],
   "source": [
    "print(sorted_indices)"
   ]
  },
  {
   "cell_type": "code",
   "execution_count": 73,
   "metadata": {},
   "outputs": [
    {
     "name": "stdout",
     "output_type": "stream",
     "text": [
      "[[0.23751208 0.7685994  0.13853477 ... 0.32007077 0.44089696 0.30534503]\n",
      " [0.8134743  0.4507754  0.8985771  ... 0.62480265 0.61458856 0.5898712 ]\n",
      " [0.7719487  0.6335418  0.73989666 ... 0.87955254 0.8390167  0.7074755 ]\n",
      " ...\n",
      " [0.0178176  0.34022805 0.00553497 ... 0.03331408 0.12786816 0.03198443]\n",
      " [0.6325407  0.90917534 0.5285223  ... 0.6583277  0.8126109  0.5398518 ]\n",
      " [0.20549628 0.4276697  0.14726873 ... 0.22003584 0.33624277 0.25943616]]\n"
     ]
    }
   ],
   "source": [
    "print(similarity_matrix)"
   ]
  },
  {
   "cell_type": "code",
   "execution_count": 74,
   "metadata": {},
   "outputs": [
    {
     "name": "stdout",
     "output_type": "stream",
     "text": [
      "<keras.engine.sequential.Sequential object at 0x0000028CEFE898D0>\n"
     ]
    }
   ],
   "source": [
    "print(model)"
   ]
  },
  {
   "cell_type": "code",
   "execution_count": 75,
   "metadata": {},
   "outputs": [
    {
     "name": "stdout",
     "output_type": "stream",
     "text": [
      "[[[[0.70980392 0.7372549  0.77647059]\n",
      "   [0.69411765 0.72156863 0.76078431]\n",
      "   [0.6745098  0.70196078 0.74117647]\n",
      "   ...\n",
      "   [0.76078431 0.80392157 0.82745098]\n",
      "   [0.75686275 0.8        0.82352941]\n",
      "   [0.75686275 0.8        0.82352941]]\n",
      "\n",
      "  [[0.72941176 0.75686275 0.79607843]\n",
      "   [0.71372549 0.74117647 0.78039216]\n",
      "   [0.69803922 0.7254902  0.76470588]\n",
      "   ...\n",
      "   [0.76078431 0.80392157 0.82745098]\n",
      "   [0.75686275 0.8        0.82352941]\n",
      "   [0.75686275 0.8        0.82352941]]\n",
      "\n",
      "  [[0.75686275 0.78431373 0.81568627]\n",
      "   [0.74509804 0.77254902 0.80392157]\n",
      "   [0.72941176 0.75686275 0.78823529]\n",
      "   ...\n",
      "   [0.75686275 0.79607843 0.83137255]\n",
      "   [0.75686275 0.79607843 0.83137255]\n",
      "   [0.75686275 0.79607843 0.83137255]]\n",
      "\n",
      "  ...\n",
      "\n",
      "  [[0.75294118 0.74117647 0.71372549]\n",
      "   [0.76862745 0.75686275 0.72941176]\n",
      "   [0.77647059 0.76470588 0.7372549 ]\n",
      "   ...\n",
      "   [0.78039216 0.78039216 0.74901961]\n",
      "   [0.79215686 0.78823529 0.76862745]\n",
      "   [0.8        0.79607843 0.77647059]]\n",
      "\n",
      "  [[0.73333333 0.73333333 0.70196078]\n",
      "   [0.74117647 0.74117647 0.70980392]\n",
      "   [0.79607843 0.79607843 0.76470588]\n",
      "   ...\n",
      "   [0.8627451  0.8627451  0.83137255]\n",
      "   [0.81960784 0.81568627 0.79607843]\n",
      "   [0.81960784 0.81568627 0.79607843]]\n",
      "\n",
      "  [[0.80392157 0.80392157 0.77254902]\n",
      "   [0.82745098 0.82745098 0.79607843]\n",
      "   [0.83137255 0.83137255 0.8       ]\n",
      "   ...\n",
      "   [0.85882353 0.85882353 0.82745098]\n",
      "   [0.81960784 0.81568627 0.79607843]\n",
      "   [0.80784314 0.80392157 0.78431373]]]\n",
      "\n",
      "\n",
      " [[[1.         1.         1.        ]\n",
      "   [1.         1.         1.        ]\n",
      "   [1.         1.         1.        ]\n",
      "   ...\n",
      "   [1.         0.95294118 0.84705882]\n",
      "   [1.         0.9372549  0.81960784]\n",
      "   [0.96470588 0.89019608 0.76078431]]\n",
      "\n",
      "  [[1.         1.         1.        ]\n",
      "   [1.         1.         1.        ]\n",
      "   [1.         1.         1.        ]\n",
      "   ...\n",
      "   [0.99215686 0.9372549  0.83137255]\n",
      "   [0.99607843 0.92941176 0.81176471]\n",
      "   [0.95294118 0.87843137 0.74901961]]\n",
      "\n",
      "  [[1.         1.         1.        ]\n",
      "   [1.         1.         1.        ]\n",
      "   [1.         1.         1.        ]\n",
      "   ...\n",
      "   [0.90196078 0.85490196 0.75294118]\n",
      "   [0.96862745 0.90980392 0.78823529]\n",
      "   [0.96470588 0.90196078 0.77254902]]\n",
      "\n",
      "  ...\n",
      "\n",
      "  [[0.82745098 0.55686275 0.39607843]\n",
      "   [0.83137255 0.55294118 0.38823529]\n",
      "   [0.83137255 0.5372549  0.37254902]\n",
      "   ...\n",
      "   [0.44313725 0.27058824 0.17254902]\n",
      "   [0.68235294 0.53333333 0.45098039]\n",
      "   [0.65882353 0.52156863 0.44705882]]\n",
      "\n",
      "  [[0.83137255 0.55294118 0.38823529]\n",
      "   [0.83137255 0.54509804 0.38431373]\n",
      "   [0.82745098 0.53333333 0.36862745]\n",
      "   ...\n",
      "   [0.43921569 0.26666667 0.16862745]\n",
      "   [0.70196078 0.55294118 0.4627451 ]\n",
      "   [0.67843137 0.54117647 0.4627451 ]]\n",
      "\n",
      "  [[0.83137255 0.55294118 0.38823529]\n",
      "   [0.83137255 0.54509804 0.37647059]\n",
      "   [0.82352941 0.52941176 0.36470588]\n",
      "   ...\n",
      "   [0.40392157 0.23137255 0.13333333]\n",
      "   [0.65882353 0.50980392 0.41960784]\n",
      "   [0.63137255 0.49411765 0.41568627]]]\n",
      "\n",
      "\n",
      " [[[1.         1.         1.        ]\n",
      "   [1.         1.         1.        ]\n",
      "   [1.         1.         1.        ]\n",
      "   ...\n",
      "   [0.95686275 0.96078431 0.98039216]\n",
      "   [0.95686275 0.96078431 0.98039216]\n",
      "   [0.95686275 0.96078431 0.98039216]]\n",
      "\n",
      "  [[1.         1.         1.        ]\n",
      "   [1.         1.         1.        ]\n",
      "   [1.         1.         1.        ]\n",
      "   ...\n",
      "   [0.95686275 0.96078431 0.98039216]\n",
      "   [0.95686275 0.96078431 0.98039216]\n",
      "   [0.95686275 0.96078431 0.98039216]]\n",
      "\n",
      "  [[1.         1.         1.        ]\n",
      "   [1.         1.         1.        ]\n",
      "   [1.         1.         1.        ]\n",
      "   ...\n",
      "   [0.96078431 0.96470588 0.98431373]\n",
      "   [0.96078431 0.96470588 0.98431373]\n",
      "   [0.96078431 0.96470588 0.98431373]]\n",
      "\n",
      "  ...\n",
      "\n",
      "  [[0.99607843 0.99607843 0.99607843]\n",
      "   [0.99607843 0.99607843 0.99607843]\n",
      "   [0.99607843 0.99607843 0.99607843]\n",
      "   ...\n",
      "   [1.         1.         1.        ]\n",
      "   [1.         1.         1.        ]\n",
      "   [1.         1.         1.        ]]\n",
      "\n",
      "  [[0.99607843 0.99607843 0.99607843]\n",
      "   [0.99607843 0.99607843 0.99607843]\n",
      "   [0.99607843 0.99607843 0.99607843]\n",
      "   ...\n",
      "   [1.         1.         1.        ]\n",
      "   [1.         1.         1.        ]\n",
      "   [1.         1.         1.        ]]\n",
      "\n",
      "  [[1.         1.         1.        ]\n",
      "   [1.         1.         1.        ]\n",
      "   [1.         1.         1.        ]\n",
      "   ...\n",
      "   [1.         1.         1.        ]\n",
      "   [1.         1.         1.        ]\n",
      "   [1.         1.         1.        ]]]\n",
      "\n",
      "\n",
      " ...\n",
      "\n",
      "\n",
      " [[[0.0627451  0.04705882 0.10196078]\n",
      "   [0.01176471 0.01960784 0.        ]\n",
      "   [0.24313725 0.27843137 0.16470588]\n",
      "   ...\n",
      "   [0.23529412 0.23529412 0.18823529]\n",
      "   [0.21568627 0.21568627 0.16862745]\n",
      "   [0.19215686 0.19607843 0.14117647]]\n",
      "\n",
      "  [[0.07058824 0.06666667 0.08627451]\n",
      "   [0.         0.00784314 0.        ]\n",
      "   [0.21568627 0.25098039 0.18431373]\n",
      "   ...\n",
      "   [0.25098039 0.25098039 0.20392157]\n",
      "   [0.25098039 0.25098039 0.20392157]\n",
      "   [0.22745098 0.23137255 0.17647059]]\n",
      "\n",
      "  [[0.05490196 0.05490196 0.04705882]\n",
      "   [0.01176471 0.03921569 0.01176471]\n",
      "   [0.34117647 0.38039216 0.3372549 ]\n",
      "   ...\n",
      "   [0.25490196 0.25490196 0.20784314]\n",
      "   [0.26666667 0.26666667 0.21960784]\n",
      "   [0.24705882 0.25098039 0.19607843]]\n",
      "\n",
      "  ...\n",
      "\n",
      "  [[0.42352941 0.4627451  0.49803922]\n",
      "   [0.44705882 0.48235294 0.50980392]\n",
      "   [0.58431373 0.61960784 0.64705882]\n",
      "   ...\n",
      "   [0.54509804 0.58039216 0.61568627]\n",
      "   [0.50196078 0.5372549  0.57254902]\n",
      "   [0.50588235 0.54117647 0.57647059]]\n",
      "\n",
      "  [[0.39607843 0.43529412 0.47058824]\n",
      "   [0.44313725 0.47843137 0.50588235]\n",
      "   [0.50980392 0.54509804 0.57254902]\n",
      "   ...\n",
      "   [0.48627451 0.52156863 0.55686275]\n",
      "   [0.54509804 0.58039216 0.61568627]\n",
      "   [0.49019608 0.5254902  0.56078431]]\n",
      "\n",
      "  [[0.49019608 0.52941176 0.56470588]\n",
      "   [0.37647059 0.41176471 0.43921569]\n",
      "   [0.4745098  0.50980392 0.5372549 ]\n",
      "   ...\n",
      "   [0.55294118 0.58823529 0.62352941]\n",
      "   [0.50588235 0.54117647 0.57647059]\n",
      "   [0.50196078 0.5372549  0.57254902]]]\n",
      "\n",
      "\n",
      " [[[0.70980392 0.69019608 0.61176471]\n",
      "   [0.70980392 0.69019608 0.61176471]\n",
      "   [0.70980392 0.69019608 0.61176471]\n",
      "   ...\n",
      "   [0.27058824 0.10588235 0.01176471]\n",
      "   [0.29019608 0.1254902  0.03137255]\n",
      "   [0.28235294 0.11764706 0.02352941]]\n",
      "\n",
      "  [[0.71372549 0.69411765 0.61568627]\n",
      "   [0.71372549 0.69411765 0.61568627]\n",
      "   [0.71372549 0.69411765 0.61568627]\n",
      "   ...\n",
      "   [0.27058824 0.10588235 0.01176471]\n",
      "   [0.30980392 0.14509804 0.05098039]\n",
      "   [0.30588235 0.14117647 0.04705882]]\n",
      "\n",
      "  [[0.71764706 0.69803922 0.61960784]\n",
      "   [0.71764706 0.69803922 0.61960784]\n",
      "   [0.71764706 0.69803922 0.61960784]\n",
      "   ...\n",
      "   [0.28235294 0.11764706 0.02352941]\n",
      "   [0.3254902  0.16078431 0.06666667]\n",
      "   [0.3254902  0.16078431 0.06666667]]\n",
      "\n",
      "  ...\n",
      "\n",
      "  [[0.54509804 0.14117647 0.15294118]\n",
      "   [0.84313725 0.42745098 0.43529412]\n",
      "   [0.51372549 0.05098039 0.03529412]\n",
      "   ...\n",
      "   [0.24313725 0.28235294 0.32156863]\n",
      "   [0.2627451  0.30196078 0.34117647]\n",
      "   [0.2627451  0.30196078 0.34901961]]\n",
      "\n",
      "  [[0.44705882 0.02352941 0.01568627]\n",
      "   [0.87058824 0.43137255 0.42352941]\n",
      "   [0.56470588 0.06666667 0.03137255]\n",
      "   ...\n",
      "   [0.22352941 0.27058824 0.31764706]\n",
      "   [0.22352941 0.27058824 0.3254902 ]\n",
      "   [0.22352941 0.27058824 0.3254902 ]]\n",
      "\n",
      "  [[0.45098039 0.02352941 0.01176471]\n",
      "   [0.8745098  0.43137255 0.40784314]\n",
      "   [0.57647059 0.0627451  0.02352941]\n",
      "   ...\n",
      "   [0.22745098 0.2745098  0.32941176]\n",
      "   [0.22745098 0.2745098  0.32941176]\n",
      "   [0.22745098 0.2745098  0.32941176]]]\n",
      "\n",
      "\n",
      " [[[1.         1.         1.        ]\n",
      "   [1.         1.         1.        ]\n",
      "   [1.         1.         1.        ]\n",
      "   ...\n",
      "   [1.         1.         1.        ]\n",
      "   [1.         1.         1.        ]\n",
      "   [1.         1.         1.        ]]\n",
      "\n",
      "  [[1.         1.         1.        ]\n",
      "   [1.         1.         1.        ]\n",
      "   [1.         1.         1.        ]\n",
      "   ...\n",
      "   [1.         1.         1.        ]\n",
      "   [1.         1.         1.        ]\n",
      "   [1.         1.         1.        ]]\n",
      "\n",
      "  [[1.         1.         1.        ]\n",
      "   [1.         1.         1.        ]\n",
      "   [1.         1.         1.        ]\n",
      "   ...\n",
      "   [1.         1.         1.        ]\n",
      "   [1.         1.         1.        ]\n",
      "   [1.         1.         1.        ]]\n",
      "\n",
      "  ...\n",
      "\n",
      "  [[1.         1.         1.        ]\n",
      "   [1.         1.         1.        ]\n",
      "   [1.         1.         1.        ]\n",
      "   ...\n",
      "   [1.         1.         1.        ]\n",
      "   [1.         1.         1.        ]\n",
      "   [1.         1.         1.        ]]\n",
      "\n",
      "  [[1.         1.         1.        ]\n",
      "   [1.         1.         1.        ]\n",
      "   [1.         1.         1.        ]\n",
      "   ...\n",
      "   [1.         1.         1.        ]\n",
      "   [1.         1.         1.        ]\n",
      "   [1.         1.         1.        ]]\n",
      "\n",
      "  [[1.         1.         1.        ]\n",
      "   [1.         1.         1.        ]\n",
      "   [1.         1.         1.        ]\n",
      "   ...\n",
      "   [1.         1.         1.        ]\n",
      "   [1.         1.         1.        ]\n",
      "   [1.         1.         1.        ]]]]\n"
     ]
    }
   ],
   "source": [
    "print(query_images)"
   ]
  },
  {
   "cell_type": "code",
   "execution_count": 76,
   "metadata": {},
   "outputs": [
    {
     "name": "stdout",
     "output_type": "stream",
     "text": [
      "[[1.32662123e-02 1.35967704e-02 1.20445915e-01 ... 5.26958369e-02\n",
      "  2.62192730e-02 2.73709986e-02]\n",
      " [1.25853404e-01 2.13938095e-02 1.89761622e-07 ... 6.03667498e-02\n",
      "  1.08799838e-01 2.45150854e-03]\n",
      " [8.92514735e-02 3.68898027e-02 2.64728093e-04 ... 6.84010014e-02\n",
      "  9.70216617e-02 2.44668096e-01]\n",
      " ...\n",
      " [6.76123018e-04 1.23793876e-03 7.43879795e-01 ... 4.99373442e-03\n",
      "  4.53432993e-04 1.20086852e-03]\n",
      " [3.96197140e-02 5.82475141e-02 1.20215215e-01 ... 3.71358953e-02\n",
      "  4.50914502e-02 6.72773942e-02]\n",
      " [4.62460555e-02 1.08941048e-01 1.07501512e-02 ... 7.00074434e-03\n",
      "  1.72030963e-02 6.61382871e-03]]\n"
     ]
    }
   ],
   "source": [
    "print(query_features)"
   ]
  },
  {
   "cell_type": "code",
   "execution_count": null,
   "metadata": {},
   "outputs": [],
   "source": []
  }
 ],
 "metadata": {
  "kernelspec": {
   "display_name": "Python 3",
   "language": "python",
   "name": "python3"
  },
  "language_info": {
   "codemirror_mode": {
    "name": "ipython",
    "version": 3
   },
   "file_extension": ".py",
   "mimetype": "text/x-python",
   "name": "python",
   "nbconvert_exporter": "python",
   "pygments_lexer": "ipython3",
   "version": "3.6.8"
  }
 },
 "nbformat": 4,
 "nbformat_minor": 2
}
